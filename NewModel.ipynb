{
 "cells": [
  {
   "cell_type": "code",
   "execution_count": 4,
   "metadata": {},
   "outputs": [
    {
     "name": "stderr",
     "output_type": "stream",
     "text": [
      "2025-01-01 20:14:42.472062: E external/local_xla/xla/stream_executor/cuda/cuda_driver.cc:152] failed call to cuInit: INTERNAL: CUDA error: Failed call to cuInit: UNKNOWN ERROR (303)\n",
      "WARNING:absl:Compiled the loaded model, but the compiled metrics have yet to be built. `model.compile_metrics` will be empty until you train or evaluate the model.\n"
     ]
    }
   ],
   "source": [
    "from keras.models import load_model\n",
    "\n",
    "# Load the previously saved model\n",
    "loaded_model = load_model('/workspaces/Cotton-Disease-Recognition-using-YOLO-Algorithm-/cotton_disease_mobilenet.h5')"
   ]
  },
  {
   "cell_type": "code",
   "execution_count": 8,
   "metadata": {},
   "outputs": [
    {
     "name": "stderr",
     "output_type": "stream",
     "text": [
      "WARNING:absl:Compiled the loaded model, but the compiled metrics have yet to be built. `model.compile_metrics` will be empty until you train or evaluate the model.\n"
     ]
    },
    {
     "name": "stdout",
     "output_type": "stream",
     "text": [
      "\u001b[1m1/1\u001b[0m \u001b[32m━━━━━━━━━━━━━━━━━━━━\u001b[0m\u001b[37m\u001b[0m \u001b[1m1s\u001b[0m 675ms/step\n",
      "Raw predictions: [[0.03159545 0.00178412 0.9547751  0.01184542]]\n",
      "Predicted Class: diseased cotton leaf\n",
      "Confidence Score: 0.95\n"
     ]
    }
   ],
   "source": [
    "import numpy as np\n",
    "from tensorflow.keras.preprocessing.image import load_img, img_to_array\n",
    "from tensorflow.keras.models import load_model\n",
    "\n",
    "# Load the previously saved model\n",
    "loaded_model = load_model('/workspaces/Cotton-Disease-Recognition-using-YOLO-Algorithm-/cotton_disease_mobilenet.h5')\n",
    "\n",
    "def predict_image(image_path, class_names, model):\n",
    "    \"\"\"\n",
    "    Predicts the class of an image using the trained model.\n",
    "\n",
    "    Args:\n",
    "        image_path (str): Path to the image to predict.\n",
    "        class_names (list): List of class labels.\n",
    "        model (Model): The trained model used for prediction.\n",
    "\n",
    "    Returns:\n",
    "        str: Predicted class label.\n",
    "        float: Confidence score of the prediction.\n",
    "    \"\"\"\n",
    "    # Load and preprocess the image\n",
    "    img = load_img(image_path, target_size=(224, 224))  # Replace with your model's input size\n",
    "    img_array = img_to_array(img) / 255.0  # Normalize pixel values to [0, 1]\n",
    "    img_array = np.expand_dims(img_array, axis=0)  # Add batch dimension\n",
    "\n",
    "    # Make prediction\n",
    "    predictions = model.predict(img_array)\n",
    "    print(f\"Raw predictions: {predictions}\")  # Debugging output\n",
    "\n",
    "    # Get the predicted class index and confidence\n",
    "    predicted_index = np.argmax(predictions[0])\n",
    "    confidence = predictions[0][predicted_index]\n",
    "\n",
    "    # Check if predicted index is valid\n",
    "    if predicted_index >= len(class_names):\n",
    "        raise ValueError(\n",
    "            f\"Predicted index {predicted_index} exceeds the number of class labels in class_names {len(class_names)}.\"\n",
    "        )\n",
    "\n",
    "    # Map predicted index to class label\n",
    "    predicted_class = class_names[predicted_index]\n",
    "\n",
    "    return predicted_class, confidence\n",
    "\n",
    "# Define the class names\n",
    "class_names = ['fresh cotton leaf', 'fresh cotton plant', 'diseased cotton leaf', 'diseased cotton plant']\n",
    "\n",
    "# Example: Predict for a sample image\n",
    "image_path = \"/workspaces/Cotton-Disease-Recognition-using-YOLO-Algorithm-/cotton2.jpeg\"\n",
    "predicted_class, confidence = predict_image(image_path, class_names, loaded_model)\n",
    "\n",
    "print(f\"Predicted Class: {predicted_class}\")\n",
    "print(f\"Confidence Score: {confidence:.2f}\")"
   ]
  },
  {
   "cell_type": "code",
   "execution_count": null,
   "metadata": {},
   "outputs": [],
   "source": []
  },
  {
   "cell_type": "code",
   "execution_count": null,
   "metadata": {},
   "outputs": [],
   "source": []
  },
  {
   "cell_type": "code",
   "execution_count": 9,
   "metadata": {},
   "outputs": [],
   "source": []
  },
  {
   "cell_type": "code",
   "execution_count": 10,
   "metadata": {},
   "outputs": [],
   "source": []
  },
  {
   "cell_type": "code",
   "execution_count": null,
   "metadata": {},
   "outputs": [],
   "source": []
  },
  {
   "cell_type": "code",
   "execution_count": null,
   "metadata": {},
   "outputs": [],
   "source": []
  },
  {
   "cell_type": "code",
   "execution_count": null,
   "metadata": {},
   "outputs": [],
   "source": []
  }
 ],
 "metadata": {
  "kernelspec": {
   "display_name": "Python 3",
   "language": "python",
   "name": "python3"
  },
  "language_info": {
   "codemirror_mode": {
    "name": "ipython",
    "version": 3
   },
   "file_extension": ".py",
   "mimetype": "text/x-python",
   "name": "python",
   "nbconvert_exporter": "python",
   "pygments_lexer": "ipython3",
   "version": "3.12.1"
  }
 },
 "nbformat": 4,
 "nbformat_minor": 2
}
